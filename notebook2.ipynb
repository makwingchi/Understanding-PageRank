{
 "cells": [
  {
   "cell_type": "markdown",
   "metadata": {},
   "source": [
    "# PageRank\n",
    "\n",
    "## Section 1: Computing PageRank\n",
    "\n",
    "For this part, I will understand and analyze graphs, first using some basic NetworkX packages and then by implementing matrix-based PageRank. \n",
    "\n",
    "After calculating PageRank for a large graph, I will explore how PageRank is affected by adding and deleting certain links in the graph and will gain insight into connectivity."
   ]
  },
  {
   "cell_type": "markdown",
   "metadata": {},
   "source": [
    "PageRank can be modeled using matrix operations as follows.  Let $M$ be a _weight transfer matrix_ in which:\n",
    "\n",
    "$M[i,j] = \\frac{1}{n_j}$, if $n_j > 0$ and \n",
    "\n",
    "$M[i,j] = 0$ otherwise\n",
    "\n",
    "where page $i$ is pointed to by page $j$ and page $j$ has $n_j$ outgoing links. And define a _dampening factor_ $\\alpha = 0.85$ and a corresponding $\\beta = 1 - \\alpha$.  Initialize the PageRank vector\n",
    "\n",
    "$PR^{(0)}=[1,1,1,\\ldots]^T$\n",
    "\n",
    "(i.e., a matrix with m rows by 1 column, filled with ones).  Then we can compute the PageRank $PR$ for each iteration as:\n",
    "\n",
    "$PR^{(i)}= \\alpha \\cdot M \\cdot PR^{(i-1)} + \\beta \\cdot [1,1,1,\\ldots]^T$"
   ]
  },
  {
   "cell_type": "code",
   "execution_count": 3,
   "metadata": {},
   "outputs": [],
   "source": [
    "import pandas as pd\n",
    "import numpy as np\n",
    "\n",
    "import matplotlib.pyplot as plt\n",
    "%matplotlib inline"
   ]
  },
  {
   "cell_type": "markdown",
   "metadata": {},
   "source": [
    "### Step 1.1 Download a web graph and store in a dataframe\n",
    "The following code retrieves a web graph from https://snap.stanford.edu/data/web-NotreDame.txt.gz, which is a reasonably sized Web crawl done by Notre Dame University, and extracts it into `web-NotreDame.txt`."
   ]
  },
  {
   "cell_type": "code",
   "execution_count": 4,
   "metadata": {},
   "outputs": [
    {
     "name": "stdout",
     "output_type": "stream",
     "text": [
      "Downloading compressed image of web-NotreDame.txt\n",
      "Saved web-NotreDame.txt\n"
     ]
    }
   ],
   "source": [
    "import urllib.request\n",
    "import io\n",
    "import gzip\n",
    "\n",
    "\n",
    "for file in ['web-NotreDame.txt']:\n",
    "    print ('Downloading compressed image of', file)\n",
    "    source = urllib.request.urlopen(\"https://snap.stanford.edu/data/\" + file + \".gz\")\n",
    "    compressedFile = io.BytesIO(source.read())\n",
    "    decompressedFile = gzip.GzipFile(fileobj=compressedFile)\n",
    "\n",
    "    with open(file, 'wb') as outfile:\n",
    "        outfile.write(decompressedFile.read())\n",
    "        outfile.close()\n",
    "        print ('Saved', file)"
   ]
  },
  {
   "cell_type": "markdown",
   "metadata": {},
   "source": [
    "Next, I will write Python code to take the data from `web-NotreDame.txt`, and read and parse the rows in a Pandas DataFrame called `graph_df`. I will restrict the node IDs to values less than 5,000."
   ]
  },
  {
   "cell_type": "code",
   "execution_count": 5,
   "metadata": {},
   "outputs": [
    {
     "data": {
      "text/html": [
       "<div>\n",
       "<style scoped>\n",
       "    .dataframe tbody tr th:only-of-type {\n",
       "        vertical-align: middle;\n",
       "    }\n",
       "\n",
       "    .dataframe tbody tr th {\n",
       "        vertical-align: top;\n",
       "    }\n",
       "\n",
       "    .dataframe thead th {\n",
       "        text-align: right;\n",
       "    }\n",
       "</style>\n",
       "<table border=\"1\" class=\"dataframe\">\n",
       "  <thead>\n",
       "    <tr style=\"text-align: right;\">\n",
       "      <th></th>\n",
       "      <th>FromNodeId</th>\n",
       "      <th>ToNodeId</th>\n",
       "    </tr>\n",
       "  </thead>\n",
       "  <tbody>\n",
       "    <tr>\n",
       "      <th>0</th>\n",
       "      <td>0</td>\n",
       "      <td>0</td>\n",
       "    </tr>\n",
       "    <tr>\n",
       "      <th>1</th>\n",
       "      <td>0</td>\n",
       "      <td>1</td>\n",
       "    </tr>\n",
       "    <tr>\n",
       "      <th>2</th>\n",
       "      <td>0</td>\n",
       "      <td>2</td>\n",
       "    </tr>\n",
       "    <tr>\n",
       "      <th>3</th>\n",
       "      <td>0</td>\n",
       "      <td>3</td>\n",
       "    </tr>\n",
       "    <tr>\n",
       "      <th>4</th>\n",
       "      <td>0</td>\n",
       "      <td>4</td>\n",
       "    </tr>\n",
       "    <tr>\n",
       "      <th>5</th>\n",
       "      <td>0</td>\n",
       "      <td>5</td>\n",
       "    </tr>\n",
       "    <tr>\n",
       "      <th>6</th>\n",
       "      <td>0</td>\n",
       "      <td>6</td>\n",
       "    </tr>\n",
       "    <tr>\n",
       "      <th>7</th>\n",
       "      <td>0</td>\n",
       "      <td>7</td>\n",
       "    </tr>\n",
       "    <tr>\n",
       "      <th>8</th>\n",
       "      <td>0</td>\n",
       "      <td>8</td>\n",
       "    </tr>\n",
       "    <tr>\n",
       "      <th>9</th>\n",
       "      <td>0</td>\n",
       "      <td>9</td>\n",
       "    </tr>\n",
       "    <tr>\n",
       "      <th>10</th>\n",
       "      <td>0</td>\n",
       "      <td>10</td>\n",
       "    </tr>\n",
       "    <tr>\n",
       "      <th>11</th>\n",
       "      <td>0</td>\n",
       "      <td>11</td>\n",
       "    </tr>\n",
       "    <tr>\n",
       "      <th>12</th>\n",
       "      <td>0</td>\n",
       "      <td>12</td>\n",
       "    </tr>\n",
       "    <tr>\n",
       "      <th>13</th>\n",
       "      <td>0</td>\n",
       "      <td>13</td>\n",
       "    </tr>\n",
       "    <tr>\n",
       "      <th>14</th>\n",
       "      <td>0</td>\n",
       "      <td>14</td>\n",
       "    </tr>\n",
       "    <tr>\n",
       "      <th>15</th>\n",
       "      <td>0</td>\n",
       "      <td>15</td>\n",
       "    </tr>\n",
       "    <tr>\n",
       "      <th>16</th>\n",
       "      <td>0</td>\n",
       "      <td>16</td>\n",
       "    </tr>\n",
       "    <tr>\n",
       "      <th>17</th>\n",
       "      <td>1</td>\n",
       "      <td>0</td>\n",
       "    </tr>\n",
       "    <tr>\n",
       "      <th>18</th>\n",
       "      <td>1</td>\n",
       "      <td>7</td>\n",
       "    </tr>\n",
       "    <tr>\n",
       "      <th>19</th>\n",
       "      <td>1</td>\n",
       "      <td>17</td>\n",
       "    </tr>\n",
       "  </tbody>\n",
       "</table>\n",
       "</div>"
      ],
      "text/plain": [
       "    FromNodeId  ToNodeId\n",
       "0            0         0\n",
       "1            0         1\n",
       "2            0         2\n",
       "3            0         3\n",
       "4            0         4\n",
       "5            0         5\n",
       "6            0         6\n",
       "7            0         7\n",
       "8            0         8\n",
       "9            0         9\n",
       "10           0        10\n",
       "11           0        11\n",
       "12           0        12\n",
       "13           0        13\n",
       "14           0        14\n",
       "15           0        15\n",
       "16           0        16\n",
       "17           1         0\n",
       "18           1         7\n",
       "19           1        17"
      ]
     },
     "execution_count": 5,
     "metadata": {},
     "output_type": "execute_result"
    }
   ],
   "source": [
    "graph_df = pd.read_csv('web-NotreDame.txt', skiprows=4, sep='\\t', names=['FromNodeId', 'ToNodeId'])\n",
    "graph_df = graph_df[(graph_df['FromNodeId']<5000) & (graph_df['ToNodeId']<5000)]\n",
    "\n",
    "graph_df.head(20)"
   ]
  },
  {
   "cell_type": "markdown",
   "metadata": {},
   "source": [
    "### Step 1.2 Load the web graph into a matrix\n",
    "\n",
    "We will now return to `graph_df` and use it to create a __weight transfer matrix M__, with edges whose weights are scaled as desribed in the beginning.  This will used as input to the PageRank algorithm."
   ]
  },
  {
   "cell_type": "code",
   "execution_count": 6,
   "metadata": {},
   "outputs": [
    {
     "name": "stderr",
     "output_type": "stream",
     "text": [
      "C:\\Users\\MaiRZ\\Anaconda3\\lib\\site-packages\\ipykernel_launcher.py:8: RuntimeWarning: invalid value encountered in true_divide\n",
      "  \n"
     ]
    }
   ],
   "source": [
    "# Create the weight transfer matrix M matrix for graph_df\n",
    "\n",
    "shape = max(max(graph_df['FromNodeId']), max(graph_df['ToNodeId'])) + 1\n",
    "matrix = np.zeros((shape, shape))\n",
    "matrix[graph_df['ToNodeId'], graph_df['FromNodeId']] = 1\n",
    "\n",
    "total = np.sum(matrix, axis=0)\n",
    "M = np.nan_to_num(matrix/total)"
   ]
  },
  {
   "cell_type": "code",
   "execution_count": 7,
   "metadata": {},
   "outputs": [
    {
     "data": {
      "text/plain": [
       "array([[0.05882353, 0.04      , 0.        , ..., 0.5       , 0.5       ,\n",
       "        0.5       ],\n",
       "       [0.05882353, 0.        , 0.        , ..., 0.        , 0.        ,\n",
       "        0.        ],\n",
       "       [0.05882353, 0.        , 0.        , ..., 0.        , 0.        ,\n",
       "        0.        ],\n",
       "       ...,\n",
       "       [0.        , 0.        , 0.        , ..., 0.        , 0.        ,\n",
       "        0.        ],\n",
       "       [0.        , 0.        , 0.        , ..., 0.        , 0.        ,\n",
       "        0.        ],\n",
       "       [0.        , 0.        , 0.        , ..., 0.        , 0.        ,\n",
       "        0.        ]])"
      ]
     },
     "execution_count": 7,
     "metadata": {},
     "output_type": "execute_result"
    }
   ],
   "source": [
    "M"
   ]
  },
  {
   "cell_type": "markdown",
   "metadata": {},
   "source": [
    "### Step 1.3 Compute matrix-based PageRank\n",
    "In the following block, we will implement a function `pagerank(M, alpha, num_iter)` that, when given a square $m \\times m$ transition matrix $M$ from Step 1.2, initializes the PageRank vector to $m$ 1’s, sets $\\alpha$ = `alpha`, sets $\\beta$ appropriately given $\\alpha$, and iterates `num_iter` times. Return an $m$-element vector that consists of the final PageRank scores."
   ]
  },
  {
   "cell_type": "code",
   "execution_count": 8,
   "metadata": {},
   "outputs": [],
   "source": [
    "def pagerank(M, alpha, num_iter):\n",
    "    rank = np.ones((len(M),1))\n",
    "    a = alpha\n",
    "    b = 1 - alpha\n",
    "    \n",
    "    for i in range(num_iter):\n",
    "        dampening = a*M\n",
    "        rank = np.dot(dampening, rank) + b\n",
    "        \n",
    "    return rank"
   ]
  },
  {
   "cell_type": "code",
   "execution_count": 9,
   "metadata": {},
   "outputs": [
    {
     "data": {
      "text/plain": [
       "array([[110.31241416],\n",
       "       [ 20.62536353],\n",
       "       [  5.67712058],\n",
       "       ...,\n",
       "       [  0.15248362],\n",
       "       [  0.15248362],\n",
       "       [  0.15248362]])"
      ]
     },
     "execution_count": 9,
     "metadata": {},
     "output_type": "execute_result"
    }
   ],
   "source": [
    "# Execute pagerank() and displays the output\n",
    "pr = pagerank(M, 0.85, 15)\n",
    "pr"
   ]
  },
  {
   "cell_type": "markdown",
   "metadata": {},
   "source": [
    "We will output a DataFrame called `best_pages_df` with the schema `(id, pagerank)` containing the original IDs and PageRanks of the nodes with top-100 highest PageRank, in descending order."
   ]
  },
  {
   "cell_type": "code",
   "execution_count": 12,
   "metadata": {},
   "outputs": [],
   "source": [
    "# Output (id, pagerank) of all nodes, sorted by pagerank.\n",
    "# The output will be a dataframe\n",
    "\n",
    "best_pages_df = \\\n",
    "pd.DataFrame(pr).\\\n",
    "reset_index().\\\n",
    "rename(columns={'index':'id', 0:'pagerank'}).\\\n",
    "sort_values('pagerank', ascending=False).reset_index(drop=True)"
   ]
  },
  {
   "cell_type": "code",
   "execution_count": 13,
   "metadata": {},
   "outputs": [
    {
     "data": {
      "text/html": [
       "<div>\n",
       "<style scoped>\n",
       "    .dataframe tbody tr th:only-of-type {\n",
       "        vertical-align: middle;\n",
       "    }\n",
       "\n",
       "    .dataframe tbody tr th {\n",
       "        vertical-align: top;\n",
       "    }\n",
       "\n",
       "    .dataframe thead th {\n",
       "        text-align: right;\n",
       "    }\n",
       "</style>\n",
       "<table border=\"1\" class=\"dataframe\">\n",
       "  <thead>\n",
       "    <tr style=\"text-align: right;\">\n",
       "      <th></th>\n",
       "      <th>id</th>\n",
       "      <th>pagerank</th>\n",
       "    </tr>\n",
       "  </thead>\n",
       "  <tbody>\n",
       "    <tr>\n",
       "      <th>0</th>\n",
       "      <td>0</td>\n",
       "      <td>110.312414</td>\n",
       "    </tr>\n",
       "    <tr>\n",
       "      <th>1</th>\n",
       "      <td>1</td>\n",
       "      <td>20.625364</td>\n",
       "    </tr>\n",
       "    <tr>\n",
       "      <th>2</th>\n",
       "      <td>140</td>\n",
       "      <td>18.483226</td>\n",
       "    </tr>\n",
       "    <tr>\n",
       "      <th>3</th>\n",
       "      <td>162</td>\n",
       "      <td>16.096038</td>\n",
       "    </tr>\n",
       "    <tr>\n",
       "      <th>4</th>\n",
       "      <td>238</td>\n",
       "      <td>14.848632</td>\n",
       "    </tr>\n",
       "    <tr>\n",
       "      <th>5</th>\n",
       "      <td>214</td>\n",
       "      <td>14.096148</td>\n",
       "    </tr>\n",
       "    <tr>\n",
       "      <th>6</th>\n",
       "      <td>16</td>\n",
       "      <td>12.654063</td>\n",
       "    </tr>\n",
       "    <tr>\n",
       "      <th>7</th>\n",
       "      <td>14</td>\n",
       "      <td>12.296607</td>\n",
       "    </tr>\n",
       "    <tr>\n",
       "      <th>8</th>\n",
       "      <td>1973</td>\n",
       "      <td>12.292720</td>\n",
       "    </tr>\n",
       "    <tr>\n",
       "      <th>9</th>\n",
       "      <td>237</td>\n",
       "      <td>9.049141</td>\n",
       "    </tr>\n",
       "  </tbody>\n",
       "</table>\n",
       "</div>"
      ],
      "text/plain": [
       "     id    pagerank\n",
       "0     0  110.312414\n",
       "1     1   20.625364\n",
       "2   140   18.483226\n",
       "3   162   16.096038\n",
       "4   238   14.848632\n",
       "5   214   14.096148\n",
       "6    16   12.654063\n",
       "7    14   12.296607\n",
       "8  1973   12.292720\n",
       "9   237    9.049141"
      ]
     },
     "execution_count": 13,
     "metadata": {},
     "output_type": "execute_result"
    }
   ],
   "source": [
    "best_pages_df.head(10)"
   ]
  },
  {
   "cell_type": "markdown",
   "metadata": {},
   "source": [
    "## Section 2: Manipulating Page Rank\n",
    "\n",
    "Now, let's look at some ways by which we can manipulate the page rank algorithm to boost the importance of a specific page (node) that we create.\n",
    "\n",
    "Let the web page that we want to boost be called the **target page**. We assign this node the id value of **5000**; note that this is a new node since it does not exist as `graph_df.FromNodeId` or `graph_df.ToNodeId`. "
   ]
  },
  {
   "cell_type": "markdown",
   "metadata": {},
   "source": [
    "### Effect of Adding Outlinks\n",
    "\n",
    "We will build links from our target page to top-n pages obtained above (`best_pages_sdf`) and observe the outcome on the page rank of our target page."
   ]
  },
  {
   "cell_type": "markdown",
   "metadata": {},
   "source": [
    "### Step 2.1: Vary the number of outgoing links and observe effect on PageRank\n",
    "\n",
    "We will implement a function `runTest(n, best_pages_df)` that returns the PageRank value of the `target` page (i.e., node 5000) whose outgoing links consist of the top-n pages in `best_pages_df`. The function will contain three steps:\n",
    "\n",
    "1. Create an `edgeList` of outgoing links from the target page to the top `n` pages (fetched from `best_pages_df`) and append `edgeList` to the original `graph_df`, creating a new dataframe of edges `graph_df2`.  Do not overwrite `graph_df`.\n",
    "2. Using `graph_df2`, create the new weight transfer matrix `M`.  \n",
    "3. Re-run `pagerank(M, 0.85, 15)` and return the PageRank value of the `target` page."
   ]
  },
  {
   "cell_type": "code",
   "execution_count": 14,
   "metadata": {},
   "outputs": [],
   "source": [
    "# Create function runTest(n, best_pages_df) that returns \n",
    "# the PageRank value of the target page \n",
    "# (node 5000) and calculate pagerank(M, 0.85, 15)\n",
    "\n",
    "def runTest(n, best_pages_df):\n",
    "    best_pages_df = best_pages_df.iloc[range(n)]\n",
    "    edgeList = pd.DataFrame({'FromNodeId':np.ones(n)*5000, 'ToNodeId':best_pages_df['id']})\n",
    "    graph_df2 = pd.concat([graph_df, edgeList])\n",
    "    graph_df2['FromNodeId'] = graph_df2['FromNodeId'].astype(int)\n",
    "    graph_df2['ToNodeId'] = graph_df2['ToNodeId'].astype(int)\n",
    "    \n",
    "    shape = int(max(max(graph_df2['FromNodeId']), max(graph_df2['ToNodeId'])) + 1)\n",
    "    matrix = np.zeros((shape, shape))\n",
    "    matrix[graph_df2['ToNodeId'], graph_df2['FromNodeId']] = 1\n",
    "\n",
    "    total = np.sum(matrix, axis=0)\n",
    "    M = np.nan_to_num(matrix/total)\n",
    "\n",
    "    pr = pagerank(M, 0.85, 15)\n",
    "    \n",
    "    return pr[-1, 0]\n"
   ]
  },
  {
   "cell_type": "markdown",
   "metadata": {},
   "source": [
    "The following cell will call `runTest` for the following values of `n : [10,50,100,200,500]`, store the output of these tests in an array `pageRankScores`, and create a scatter plot with the page rank scores of node 5000 against the value of `n` used. "
   ]
  },
  {
   "cell_type": "code",
   "execution_count": 15,
   "metadata": {},
   "outputs": [
    {
     "name": "stderr",
     "output_type": "stream",
     "text": [
      "C:\\Users\\MaiRZ\\Anaconda3\\lib\\site-packages\\ipykernel_launcher.py:17: RuntimeWarning: invalid value encountered in true_divide\n"
     ]
    },
    {
     "data": {
      "text/plain": [
       "<matplotlib.collections.PathCollection at 0x1e80bf09630>"
      ]
     },
     "execution_count": 15,
     "metadata": {},
     "output_type": "execute_result"
    },
    {
     "data": {
      "image/png": "[encoded data removed]",
      "text/plain": [
       "<Figure size 432x288 with 1 Axes>"
      ]
     },
     "metadata": {},
     "output_type": "display_data"
    }
   ],
   "source": [
    "# Call runTest for n=10, 50, 100, 200, 500. \n",
    "# Store results in pageRankScores, and visualize the results.\n",
    "\n",
    "n = [10,50,100,200,500]\n",
    "pageRankScores = []\n",
    "\n",
    "for i in n:\n",
    "    pageRankScores.append(runTest(i, best_pages_df))\n",
    "\n",
    "plt.scatter(n, pageRankScores)"
   ]
  },
  {
   "cell_type": "markdown",
   "metadata": {},
   "source": [
    "### Effect of Adding Incoming Links from Other Pages\n",
    "\n",
    "Using the original `graph_df`, we will now add new __incoming edges__ to the target_page, and observe the difference in the page rank value of the target_page based on the *quantity* as well as *quality* of the incoming links."
   ]
  },
  {
   "cell_type": "markdown",
   "metadata": {},
   "source": [
    "### Step 2.2: Add incoming links from different subranges of `best_pages_df`\n",
    "\n",
    "We will implement a function `runTest2(n, best_pages_df)` that returns the PageRank value of the `target` page (i.e., node 5000) whose incoming links consist of the pages ranked between `n` and `n`+200 (inclusive) in `best_pages_df` and whose outgoing linkes are to the top 100 pages in `best_pages_df`. The function will contain three steps:\n",
    "\n",
    "1. Create an `edgeList` of outgoing links from the target page to the top 100 pages, and incoming links from pages ranked between `n` and `n`+200 (inclusive) to the target page.  Append `edgeList` to the original `graph_df`, creating a new dataframe of edges `graph_df2`.  Do not overwrite `graph_df`.\n",
    "2. Using `graph_df2`, create the new weight transfer matrix `M`.  \n",
    "3. Re-run `pagerank(M, 0.85, 15)` and return the PageRank value of the `target` page.\n",
    "\n",
    "Thus, 100 outgoing edges and 200 incoming edges will be added for the target page in `graph_df2`."
   ]
  },
  {
   "cell_type": "code",
   "execution_count": 16,
   "metadata": {},
   "outputs": [],
   "source": [
    "# Create function runTest2(n, best_pages_df) that returns \n",
    "# the PageRank value of the target page (node 5000) \n",
    "# and calculates pagerank(M, 0.85, 15)\n",
    "\n",
    "def runTest2(n, best_pages_df):\n",
    "    incoming = pd.DataFrame({'FromNodeId':best_pages_df.iloc[n:n+201]['id'], 'ToNodeId':np.ones(201)*5000})\n",
    "    outgoing = pd.DataFrame({'FromNodeId':np.ones(100)*5000, 'ToNodeId':best_pages_df.iloc[range(100)]['id']})\n",
    "    edgeList = pd.concat([incoming, outgoing])\n",
    "    graph_df2 = pd.concat([graph_df, edgeList])\n",
    "    graph_df2['FromNodeId'] = graph_df2['FromNodeId'].astype(int)\n",
    "    graph_df2['ToNodeId'] = graph_df2['ToNodeId'].astype(int)\n",
    "    \n",
    "    shape = int(max(max(graph_df2['FromNodeId']), max(graph_df2['ToNodeId'])) + 1)\n",
    "    matrix = np.zeros((shape, shape))\n",
    "    matrix[graph_df2['ToNodeId'], graph_df2['FromNodeId']] = 1\n",
    "\n",
    "    total = np.sum(matrix, axis=0)\n",
    "    M = np.nan_to_num(matrix/total)\n",
    "\n",
    "    pr = pagerank(M, 0.85, 25)\n",
    "    \n",
    "    return pr[-1, 0]"
   ]
  },
  {
   "cell_type": "markdown",
   "metadata": {},
   "source": [
    "The cell below will run the above test for these values of `n` : [0,100,200,300,400,500,800,1000,2000,3000,4000,4500], store the output in an array `pageRankScores25`, and create a scatter plot with the page rank scores of node 5000 for different values of `n`."
   ]
  },
  {
   "cell_type": "code",
   "execution_count": 17,
   "metadata": {},
   "outputs": [
    {
     "name": "stderr",
     "output_type": "stream",
     "text": [
      "C:\\Users\\MaiRZ\\Anaconda3\\lib\\site-packages\\ipykernel_launcher.py:18: RuntimeWarning: invalid value encountered in true_divide\n"
     ]
    }
   ],
   "source": [
    "# Call runTest2 for \n",
    "# n = [0,100,200,300,400,500,800,1000,2000,3000,4000,4500]\n",
    "# and visualize the results.\n",
    "\n",
    "n = [0,100,200,300,400,500,800,1000,2000,3000,4000,4500]\n",
    "pageRankScores25 = []\n",
    "\n",
    "for i in n:\n",
    "    pageRankScores25.append(runTest2(i, best_pages_df))"
   ]
  },
  {
   "cell_type": "code",
   "execution_count": 21,
   "metadata": {},
   "outputs": [
    {
     "data": {
      "text/plain": [
       "<matplotlib.collections.PathCollection at 0x1e80c0779e8>"
      ]
     },
     "execution_count": 21,
     "metadata": {},
     "output_type": "execute_result"
    },
    {
     "data": {
      "image/png": "[encoded data removed]",
      "text/plain": [
       "<Figure size 432x288 with 1 Axes>"
      ]
     },
     "metadata": {},
     "output_type": "display_data"
    }
   ],
   "source": [
    "# Plot the result\n",
    "plt.scatter(n, pageRankScores25)"
   ]
  },
  {
   "cell_type": "markdown",
   "metadata": {},
   "source": [
    "> We can observe that incoming links from **more influential pages** adds more value to your page and increases its importance as perceived by the page rank."
   ]
  },
  {
   "cell_type": "markdown",
   "metadata": {},
   "source": [
    "### Understanding Connectivity\n",
    "A key takeway from this is that it is not sufficient to have incoming links from influential pages. Although there is a general trend that having incoming links from influential pages increases your page rank, what also matters is whether there is **connectivity** between the nodes that the target_page is linking to and is receiving links from.\n",
    "\n",
    "We can observe this by changing the list of nodes that the target_page has outgoing links to and observe the change in its page rank value. Instead of the target_page having outgoing links to pages 0-100, we will make it have outgoing links to pages 500-600. We will be able to observe the bump in the page rank value of target_page when it has incoming links from these same set of pages."
   ]
  },
  {
   "cell_type": "markdown",
   "metadata": {},
   "source": [
    "### Step 2.3  Effect of overlap in incoming and outgoing links\n",
    "We will implement a function `runTest3(n, best_pages_df)` that modifies `runTest2()` to have outgoing links to pages 500-600, and again returns the page rank value of the target page (i.e., node 5000).\n",
    "\n",
    "Here are what the function achieves:\n",
    "1. Create an `edgeList` of outgoing links from the target page to pages 500-600, and incoming links from pages ranked between `n` and `n`+200 (inclusive) to the target page.  Append `edgeList` to the original `graph_df`, creating a new dataframe of edges `graph_df2`.  Do not overwrite `graph_df`.\n",
    "2. Using `graph_df2`, create the new weight transfer matrix `M`.  \n",
    "3. Re-run `pagerank(M, 0.85, 15)` and return the PageRank value of the `target` page.\n",
    "\n",
    "Again, 100 outgoing edges and 200 incoming edges will be added in total for the target page in `graph_df2`."
   ]
  },
  {
   "cell_type": "code",
   "execution_count": 18,
   "metadata": {},
   "outputs": [],
   "source": [
    "# Create function runTest3(n, best_pages_df) in which \n",
    "# the target page has outgoing links to pages 500-600 \n",
    "# and incoming links from pages n to n+200.\n",
    "# Return the PageRank value of the target page.\n",
    "\n",
    "def runTest3(n, best_pages_df):\n",
    "    incoming = pd.DataFrame({'FromNodeId':best_pages_df.iloc[n:n+201]['id'], 'ToNodeId':np.ones(201)*5000})\n",
    "    outgoing = pd.DataFrame({'FromNodeId':np.ones(101)*5000, 'ToNodeId':best_pages_df.iloc[500:601]['id']})\n",
    "    edgeList = pd.concat([incoming, outgoing])\n",
    "    graph_df2 = pd.concat([graph_df, edgeList])\n",
    "    graph_df2['FromNodeId'] = graph_df2['FromNodeId'].astype(int)\n",
    "    graph_df2['ToNodeId'] = graph_df2['ToNodeId'].astype(int)\n",
    "    \n",
    "    shape = int(max(max(graph_df2['FromNodeId']), max(graph_df2['ToNodeId'])) + 1)\n",
    "    matrix = np.zeros((shape, shape))\n",
    "    matrix[graph_df2['ToNodeId'], graph_df2['FromNodeId']] = 1\n",
    "\n",
    "    total = np.sum(matrix, axis=0)\n",
    "    M = np.nan_to_num(matrix/total)\n",
    "\n",
    "    pr = pagerank(M, 0.85, 25)\n",
    "    \n",
    "    return pr[-1, 0]"
   ]
  },
  {
   "cell_type": "markdown",
   "metadata": {},
   "source": [
    "The cell below will run the above test for these values of `n` : [0,100,200,300,400,500,800,1000,2000,3000,4000,4500], store the output in an array called `pageRankScores26`, and create a scatter plot with the PageRank scores of node 5000 for different values of these incoming links."
   ]
  },
  {
   "cell_type": "code",
   "execution_count": 19,
   "metadata": {},
   "outputs": [
    {
     "name": "stderr",
     "output_type": "stream",
     "text": [
      "C:\\Users\\MaiRZ\\Anaconda3\\lib\\site-packages\\ipykernel_launcher.py:19: RuntimeWarning: invalid value encountered in true_divide\n"
     ]
    },
    {
     "data": {
      "text/plain": [
       "[<matplotlib.lines.Line2D at 0x1e80bfa6b00>]"
      ]
     },
     "execution_count": 19,
     "metadata": {},
     "output_type": "execute_result"
    },
    {
     "data": {
      "image/png": "[encoded data removed]",
      "text/plain": [
       "<Figure size 432x288 with 1 Axes>"
      ]
     },
     "metadata": {},
     "output_type": "display_data"
    }
   ],
   "source": [
    "# Call runTest3 for n = [0,100,200,300,400,500,800,1000,2000,3000,4000,4500]\n",
    "# and visualize the results.\n",
    "\n",
    "n = [0,100,200,300,400,500,800,1000,2000,3000,4000,4500]\n",
    "pageRankScores26 = []\n",
    "\n",
    "for i in n:\n",
    "    pageRankScores26.append(runTest3(i, best_pages_df))\n",
    "\n",
    "plt.plot(n,pageRankScores26,'bo') "
   ]
  },
  {
   "cell_type": "markdown",
   "metadata": {},
   "source": [
    "### Visualizing the Effect\n",
    "\n",
    "To get a better understanding of the effect of adding different kinds of links from and to the target page, we plot the values from `pageRankScores25` and `pageRankScores26` in the same plot and compare the differences in the values as we move from 0 to 4500. "
   ]
  },
  {
   "cell_type": "code",
   "execution_count": 20,
   "metadata": {},
   "outputs": [
    {
     "data": {
      "text/plain": [
       "<matplotlib.legend.Legend at 0x1e80c00e3c8>"
      ]
     },
     "execution_count": 20,
     "metadata": {},
     "output_type": "execute_result"
    },
    {
     "data": {
      "image/png": "[encoded data removed]",
      "text/plain": [
       "<Figure size 432x288 with 1 Axes>"
      ]
     },
     "metadata": {},
     "output_type": "display_data"
    }
   ],
   "source": [
    "plt.plot(n, pageRankScores25, 'r-o', label='pageRankScores25')\n",
    "plt.plot(n, pageRankScores26, 'b-o', label='pageRankScores26') \n",
    "\n",
    "\n",
    "plt.legend()"
   ]
  },
  {
   "cell_type": "markdown",
   "metadata": {},
   "source": [
    "---"
   ]
  },
  {
   "cell_type": "markdown",
   "metadata": {},
   "source": [
    "Note: This is one of the assignments of CIS 545 Big Data Analytics at University of Pennsylvania during Spring 2019."
   ]
  }
 ],
 "metadata": {
  "kernelspec": {
   "display_name": "Python 3",
   "language": "python",
   "name": "python3"
  },
  "language_info": {
   "codemirror_mode": {
    "name": "ipython",
    "version": 3
   },
   "file_extension": ".py",
   "mimetype": "text/x-python",
   "name": "python",
   "nbconvert_exporter": "python",
   "pygments_lexer": "ipython3",
   "version": "3.6.6"
  }
 },
 "nbformat": 4,
 "nbformat_minor": 2
}
